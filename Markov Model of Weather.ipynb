{
 "cells": [
  {
   "cell_type": "markdown",
   "id": "47c9a4e6",
   "metadata": {},
   "source": [
    "## Markov Model of Weather - Exercise"
   ]
  },
  {
   "cell_type": "code",
   "execution_count": 3,
   "id": "93b5a001-864b-40be-a7b5-ddf789c47e13",
   "metadata": {},
   "outputs": [],
   "source": [
    "import pandas as pd\n",
    "import numpy as np\n",
    "import matplotlib.pyplot as plt\n",
    "from matplotlib import cm\n",
    "from mpl_toolkits.mplot3d import Axes3D\n",
    "import matplotlib.patches as mpatches\n",
    "%matplotlib inline"
   ]
  },
  {
   "cell_type": "markdown",
   "id": "48906bf0",
   "metadata": {},
   "source": [
    "_Data: https://www.kaggle.com/datasets/ananthr1/weather-prediction_"
   ]
  },
  {
   "cell_type": "code",
   "execution_count": 4,
   "metadata": {},
   "outputs": [],
   "source": [
    "data = pd.read_csv(\"seattle-weather.csv\")"
   ]
  },
  {
   "cell_type": "markdown",
   "id": "611434eb",
   "metadata": {},
   "source": [
    "Possible weather categories:\n",
    "* drizzle\n",
    "* rain\n",
    "* sun\n",
    "* snow\n",
    "* fog"
   ]
  },
  {
   "cell_type": "code",
   "execution_count": 5,
   "id": "92bf8a01",
   "metadata": {},
   "outputs": [
    {
     "data": {
      "text/html": [
       "<div>\n",
       "<style scoped>\n",
       "    .dataframe tbody tr th:only-of-type {\n",
       "        vertical-align: middle;\n",
       "    }\n",
       "\n",
       "    .dataframe tbody tr th {\n",
       "        vertical-align: top;\n",
       "    }\n",
       "\n",
       "    .dataframe thead th {\n",
       "        text-align: right;\n",
       "    }\n",
       "</style>\n",
       "<table border=\"1\" class=\"dataframe\">\n",
       "  <thead>\n",
       "    <tr style=\"text-align: right;\">\n",
       "      <th></th>\n",
       "      <th>date</th>\n",
       "      <th>precipitation</th>\n",
       "      <th>temp_max</th>\n",
       "      <th>temp_min</th>\n",
       "      <th>wind</th>\n",
       "      <th>weather</th>\n",
       "    </tr>\n",
       "  </thead>\n",
       "  <tbody>\n",
       "    <tr>\n",
       "      <th>0</th>\n",
       "      <td>2012-01-01</td>\n",
       "      <td>0.0</td>\n",
       "      <td>12.8</td>\n",
       "      <td>5.0</td>\n",
       "      <td>4.7</td>\n",
       "      <td>drizzle</td>\n",
       "    </tr>\n",
       "    <tr>\n",
       "      <th>1</th>\n",
       "      <td>2012-01-02</td>\n",
       "      <td>10.9</td>\n",
       "      <td>10.6</td>\n",
       "      <td>2.8</td>\n",
       "      <td>4.5</td>\n",
       "      <td>rain</td>\n",
       "    </tr>\n",
       "    <tr>\n",
       "      <th>2</th>\n",
       "      <td>2012-01-03</td>\n",
       "      <td>0.8</td>\n",
       "      <td>11.7</td>\n",
       "      <td>7.2</td>\n",
       "      <td>2.3</td>\n",
       "      <td>rain</td>\n",
       "    </tr>\n",
       "    <tr>\n",
       "      <th>3</th>\n",
       "      <td>2012-01-04</td>\n",
       "      <td>20.3</td>\n",
       "      <td>12.2</td>\n",
       "      <td>5.6</td>\n",
       "      <td>4.7</td>\n",
       "      <td>rain</td>\n",
       "    </tr>\n",
       "    <tr>\n",
       "      <th>4</th>\n",
       "      <td>2012-01-05</td>\n",
       "      <td>1.3</td>\n",
       "      <td>8.9</td>\n",
       "      <td>2.8</td>\n",
       "      <td>6.1</td>\n",
       "      <td>rain</td>\n",
       "    </tr>\n",
       "    <tr>\n",
       "      <th>...</th>\n",
       "      <td>...</td>\n",
       "      <td>...</td>\n",
       "      <td>...</td>\n",
       "      <td>...</td>\n",
       "      <td>...</td>\n",
       "      <td>...</td>\n",
       "    </tr>\n",
       "    <tr>\n",
       "      <th>1456</th>\n",
       "      <td>2015-12-27</td>\n",
       "      <td>8.6</td>\n",
       "      <td>4.4</td>\n",
       "      <td>1.7</td>\n",
       "      <td>2.9</td>\n",
       "      <td>rain</td>\n",
       "    </tr>\n",
       "    <tr>\n",
       "      <th>1457</th>\n",
       "      <td>2015-12-28</td>\n",
       "      <td>1.5</td>\n",
       "      <td>5.0</td>\n",
       "      <td>1.7</td>\n",
       "      <td>1.3</td>\n",
       "      <td>rain</td>\n",
       "    </tr>\n",
       "    <tr>\n",
       "      <th>1458</th>\n",
       "      <td>2015-12-29</td>\n",
       "      <td>0.0</td>\n",
       "      <td>7.2</td>\n",
       "      <td>0.6</td>\n",
       "      <td>2.6</td>\n",
       "      <td>fog</td>\n",
       "    </tr>\n",
       "    <tr>\n",
       "      <th>1459</th>\n",
       "      <td>2015-12-30</td>\n",
       "      <td>0.0</td>\n",
       "      <td>5.6</td>\n",
       "      <td>-1.0</td>\n",
       "      <td>3.4</td>\n",
       "      <td>sun</td>\n",
       "    </tr>\n",
       "    <tr>\n",
       "      <th>1460</th>\n",
       "      <td>2015-12-31</td>\n",
       "      <td>0.0</td>\n",
       "      <td>5.6</td>\n",
       "      <td>-2.1</td>\n",
       "      <td>3.5</td>\n",
       "      <td>sun</td>\n",
       "    </tr>\n",
       "  </tbody>\n",
       "</table>\n",
       "<p>1461 rows × 6 columns</p>\n",
       "</div>"
      ],
      "text/plain": [
       "            date  precipitation  temp_max  temp_min  wind  weather\n",
       "0     2012-01-01            0.0      12.8       5.0   4.7  drizzle\n",
       "1     2012-01-02           10.9      10.6       2.8   4.5     rain\n",
       "2     2012-01-03            0.8      11.7       7.2   2.3     rain\n",
       "3     2012-01-04           20.3      12.2       5.6   4.7     rain\n",
       "4     2012-01-05            1.3       8.9       2.8   6.1     rain\n",
       "...          ...            ...       ...       ...   ...      ...\n",
       "1456  2015-12-27            8.6       4.4       1.7   2.9     rain\n",
       "1457  2015-12-28            1.5       5.0       1.7   1.3     rain\n",
       "1458  2015-12-29            0.0       7.2       0.6   2.6      fog\n",
       "1459  2015-12-30            0.0       5.6      -1.0   3.4      sun\n",
       "1460  2015-12-31            0.0       5.6      -2.1   3.5      sun\n",
       "\n",
       "[1461 rows x 6 columns]"
      ]
     },
     "execution_count": 5,
     "metadata": {},
     "output_type": "execute_result"
    }
   ],
   "source": [
    "data"
   ]
  },
  {
   "cell_type": "markdown",
   "id": "ebed2b7d",
   "metadata": {},
   "source": [
    "Data shows daily weather conditions."
   ]
  },
  {
   "cell_type": "code",
   "execution_count": 6,
   "id": "0ce67d1b",
   "metadata": {},
   "outputs": [
    {
     "data": {
      "text/plain": [
       "640"
      ]
     },
     "execution_count": 6,
     "metadata": {},
     "output_type": "execute_result"
    }
   ],
   "source": [
    "data[\"weather\"].str.contains('sun').sum()"
   ]
  },
  {
   "cell_type": "code",
   "execution_count": 7,
   "id": "ca3dfd53",
   "metadata": {},
   "outputs": [
    {
     "data": {
      "text/plain": [
       "641"
      ]
     },
     "execution_count": 7,
     "metadata": {},
     "output_type": "execute_result"
    }
   ],
   "source": [
    "data[\"weather\"].str.contains('rain').sum()"
   ]
  },
  {
   "cell_type": "code",
   "execution_count": 8,
   "id": "2f7f4eeb",
   "metadata": {},
   "outputs": [
    {
     "data": {
      "text/plain": [
       "101"
      ]
     },
     "execution_count": 8,
     "metadata": {},
     "output_type": "execute_result"
    }
   ],
   "source": [
    "data[\"weather\"].str.contains('fog').sum()"
   ]
  },
  {
   "cell_type": "code",
   "execution_count": 9,
   "id": "09dbbdd5",
   "metadata": {},
   "outputs": [
    {
     "data": {
      "text/plain": [
       "26"
      ]
     },
     "execution_count": 9,
     "metadata": {},
     "output_type": "execute_result"
    }
   ],
   "source": [
    "data[\"weather\"].str.contains('snow').sum()"
   ]
  },
  {
   "cell_type": "code",
   "execution_count": 10,
   "id": "474d03aa",
   "metadata": {},
   "outputs": [
    {
     "data": {
      "text/plain": [
       "53"
      ]
     },
     "execution_count": 10,
     "metadata": {},
     "output_type": "execute_result"
    }
   ],
   "source": [
    "data[\"weather\"].str.contains('drizzle').sum()"
   ]
  },
  {
   "cell_type": "code",
   "execution_count": 11,
   "id": "0a6b1cd5",
   "metadata": {},
   "outputs": [],
   "source": [
    "weather_list = list(data[\"weather\"].unique())"
   ]
  },
  {
   "cell_type": "markdown",
   "id": "a5f31f63",
   "metadata": {},
   "source": [
    "#sun_to_sun = \n",
    "for weather in weather_list:\n",
    "    permutacija i len count stanja u stanje i to sve Markovljeve stvariiiiiiiiiiiii i matrica, nek bude dinamično ako može, kasnije kada dobijem\n",
    "    matricu prijelaznih vjerojatnosti provjeriti ergodički teorem i naći stacionarna stanja, možda dijagonalizacijom također, a usporediti"
   ]
  },
  {
   "cell_type": "markdown",
   "id": "4c27ac3f",
   "metadata": {},
   "source": [
    "krivo normiranje vjerojatnosti na prošlom Markov projektu\n"
   ]
  },
  {
   "cell_type": "code",
   "execution_count": 36,
   "id": "94ea33ad",
   "metadata": {},
   "outputs": [],
   "source": [
    "#i - rows of transition matrix\n",
    "#j - columns of transition matrix\n",
    "transition_matrix = np.zeros(shape=(len(weather_list), len(weather_list)),dtype=np.float32)#object\n",
    "for i in range (len(weather_list)):\n",
    "    for j in range(len(weather_list)):\n",
    "        numerator = len(data[(data[\"weather\"]==weather_list[j]) & (data[\"weather\"].shift(-1)==weather_list[i])])\n",
    "        denominator = len(data[data[\"weather\"]==weather_list[i]])\n",
    "        p_ij = numerator / denominator\n",
    "        transition_matrix[i,j] = p_ij\n",
    "        #transition_matrix[i,j] = weather_list[i]+weather_list[j]\n"
   ]
  },
  {
   "cell_type": "code",
   "execution_count": 95,
   "id": "cfc60645",
   "metadata": {},
   "outputs": [
    {
     "data": {
      "text/plain": [
       "array([[0.3018868 , 0.33962265, 0.3018868 , 0.01886792, 0.01886792],\n",
       "       [0.02964118, 0.673947  , 0.23088923, 0.01560062, 0.049922  ],\n",
       "       [0.0234375 , 0.225     , 0.68125   , 0.0078125 , 0.0625    ],\n",
       "       [0.        , 0.42307693, 0.1923077 , 0.3846154 , 0.        ],\n",
       "       [0.02970297, 0.35643566, 0.33663365, 0.        , 0.27722773]],\n",
       "      dtype=float32)"
      ]
     },
     "execution_count": 95,
     "metadata": {},
     "output_type": "execute_result"
    }
   ],
   "source": [
    "transition_matrix"
   ]
  },
  {
   "cell_type": "code",
   "execution_count": 81,
   "id": "99b374e5",
   "metadata": {},
   "outputs": [
    {
     "data": {
      "text/plain": [
       "[0.9811320304870605, 1.0000001192092896, 1.0, 1.0, 1.0]"
      ]
     },
     "execution_count": 81,
     "metadata": {},
     "output_type": "execute_result"
    }
   ],
   "source": [
    "#Norm check\n",
    "np.sum(transition_matrix,axis=1).tolist()"
   ]
  },
  {
   "cell_type": "code",
   "execution_count": 82,
   "id": "f00c0f36",
   "metadata": {},
   "outputs": [
    {
     "data": {
      "text/html": [
       "<div>\n",
       "<style scoped>\n",
       "    .dataframe tbody tr th:only-of-type {\n",
       "        vertical-align: middle;\n",
       "    }\n",
       "\n",
       "    .dataframe tbody tr th {\n",
       "        vertical-align: top;\n",
       "    }\n",
       "\n",
       "    .dataframe thead th {\n",
       "        text-align: right;\n",
       "    }\n",
       "</style>\n",
       "<table border=\"1\" class=\"dataframe\">\n",
       "  <thead>\n",
       "    <tr style=\"text-align: right;\">\n",
       "      <th></th>\n",
       "      <th>drizzle</th>\n",
       "      <th>rain</th>\n",
       "      <th>sun</th>\n",
       "      <th>snow</th>\n",
       "      <th>fog</th>\n",
       "    </tr>\n",
       "  </thead>\n",
       "  <tbody>\n",
       "    <tr>\n",
       "      <th>drizzle</th>\n",
       "      <td>0.301887</td>\n",
       "      <td>0.339623</td>\n",
       "      <td>0.301887</td>\n",
       "      <td>0.018868</td>\n",
       "      <td>0.018868</td>\n",
       "    </tr>\n",
       "    <tr>\n",
       "      <th>rain</th>\n",
       "      <td>0.029641</td>\n",
       "      <td>0.673947</td>\n",
       "      <td>0.230889</td>\n",
       "      <td>0.015601</td>\n",
       "      <td>0.049922</td>\n",
       "    </tr>\n",
       "    <tr>\n",
       "      <th>sun</th>\n",
       "      <td>0.023438</td>\n",
       "      <td>0.225000</td>\n",
       "      <td>0.681250</td>\n",
       "      <td>0.007812</td>\n",
       "      <td>0.062500</td>\n",
       "    </tr>\n",
       "    <tr>\n",
       "      <th>snow</th>\n",
       "      <td>0.000000</td>\n",
       "      <td>0.423077</td>\n",
       "      <td>0.192308</td>\n",
       "      <td>0.384615</td>\n",
       "      <td>0.000000</td>\n",
       "    </tr>\n",
       "    <tr>\n",
       "      <th>fog</th>\n",
       "      <td>0.029703</td>\n",
       "      <td>0.356436</td>\n",
       "      <td>0.336634</td>\n",
       "      <td>0.000000</td>\n",
       "      <td>0.277228</td>\n",
       "    </tr>\n",
       "  </tbody>\n",
       "</table>\n",
       "</div>"
      ],
      "text/plain": [
       "          drizzle      rain       sun      snow       fog\n",
       "drizzle  0.301887  0.339623  0.301887  0.018868  0.018868\n",
       "rain     0.029641  0.673947  0.230889  0.015601  0.049922\n",
       "sun      0.023438  0.225000  0.681250  0.007812  0.062500\n",
       "snow     0.000000  0.423077  0.192308  0.384615  0.000000\n",
       "fog      0.029703  0.356436  0.336634  0.000000  0.277228"
      ]
     },
     "execution_count": 82,
     "metadata": {},
     "output_type": "execute_result"
    }
   ],
   "source": [
    "transition_data=pd.DataFrame(transition_matrix, columns=weather_list)\n",
    "transition_data.index = weather_list; transition_data"
   ]
  },
  {
   "cell_type": "markdown",
   "id": "f1393140",
   "metadata": {},
   "source": [
    "Assume an initial state vector as defined by $\\vec{v_0} = (0,1,0,0,0)$ (i.e it was _raining_ at Markov step 0). The probability of a particular weather at Markov step 1 (i.e the day after) is calculated as $\\vec{v_1}  = P\\vec{v_1} $ (where $P$ is the transition matrix) and results in the state vector:"
   ]
  },
  {
   "cell_type": "code",
   "execution_count": 118,
   "id": "6ba0322e",
   "metadata": {},
   "outputs": [
    {
     "data": {
      "text/plain": [
       "array([0.02964118, 0.67394698, 0.23088923, 0.01560062, 0.049922  ])"
      ]
     },
     "execution_count": 118,
     "metadata": {},
     "output_type": "execute_result"
    }
   ],
   "source": [
    "v_0_row = np.array([0,1,0,0,0])\n",
    "np.matmul(v_0_row, transition_matrix)"
   ]
  },
  {
   "cell_type": "markdown",
   "id": "83693a17",
   "metadata": {},
   "source": [
    "...giving the probabilites for \"_drizzle_\", \"_rain_\", \"_sun_\", \"_snow_\", \"_fog_\" at step 1, respectively."
   ]
  },
  {
   "cell_type": "markdown",
   "id": "6d8806b8",
   "metadata": {},
   "source": [
    "The state vector at step N (e.g. N=20) is calculated as: $\\vec{v_N} = P^N\\vec{v_0}$. For N=20 we have:"
   ]
  },
  {
   "cell_type": "code",
   "execution_count": 122,
   "id": "d6506519",
   "metadata": {},
   "outputs": [
    {
     "data": {
      "text/plain": [
       "array([0.03584966, 0.43368059, 0.43175784, 0.0175943 , 0.0682902 ])"
      ]
     },
     "execution_count": 122,
     "metadata": {},
     "output_type": "execute_result"
    }
   ],
   "source": [
    "v_0_row = np.array([0,1,0,0,0])\n",
    "N=20\n",
    "transition_matrix_N = np.linalg.matrix_power(transition_matrix, N)\n",
    "np.matmul(v_0_row, transition_matrix_N)"
   ]
  },
  {
   "cell_type": "markdown",
   "id": "4832c6df",
   "metadata": {},
   "source": [
    "...giving the probabilites for the aformentioned weather conditions. Notice that in our dataset one step interval equals to one calendar day."
   ]
  },
  {
   "cell_type": "markdown",
   "id": "fde8e6ea",
   "metadata": {},
   "source": [
    "If the elements of $P^N$ converge to values $\\pi_ij$ that are larger than 0 *and* all elements of $P^N$ are larger than 0 (i.e. the transition from any state to any another state is possible), then $\\pi_ij$ are said to be stationary states. Numerically, we can check the convergence of the transition probabilities by computing the powers of the transition matrix and plotting their convergence over the number of steps N. We will do so on one particular element of the transition matrix, $P_{22}$."
   ]
  },
  {
   "cell_type": "code",
   "execution_count": 127,
   "id": "b7c5ba73",
   "metadata": {},
   "outputs": [
    {
     "data": {
      "text/plain": [
       "0.68125"
      ]
     },
     "execution_count": 127,
     "metadata": {},
     "output_type": "execute_result"
    }
   ],
   "source": [
    "transition_matrix[2,2]"
   ]
  },
  {
   "cell_type": "code",
   "execution_count": 125,
   "id": "05ffe1f4",
   "metadata": {},
   "outputs": [
    {
     "data": {
      "text/plain": [
       "[<matplotlib.lines.Line2D at 0x1beaa0233b0>]"
      ]
     },
     "execution_count": 125,
     "metadata": {},
     "output_type": "execute_result"
    },
    {
     "data": {
      "image/png": "[encoded data removed]",
      "text/plain": [
       "<Figure size 640x480 with 1 Axes>"
      ]
     },
     "metadata": {},
     "output_type": "display_data"
    }
   ],
   "source": [
    "convergence_list = []\n",
    "for n in range(1,3000):\n",
    "    p_n = np.linalg.matrix_power(transition_matrix, n)\n",
    "    convergence_list.append(p_n[2,2])\n",
    "plt.plot([n for n in range(1,3000)],convergence_list)"
   ]
  },
  {
   "cell_type": "markdown",
   "id": "c74e6ba8",
   "metadata": {},
   "source": [
    "The transition probabilty $p_{22}$ does not converge to a stationary value $\\pi_{22} > 0$, therefore the ergodic theorem does not apply. Instead, it approaches zero for large N."
   ]
  },
  {
   "cell_type": "markdown",
   "id": "81876376",
   "metadata": {},
   "source": [
    "                                                                    ~ Gregoritsch3"
   ]
  }
 ],
 "metadata": {
  "kernelspec": {
   "display_name": "base",
   "language": "python",
   "name": "python3"
  },
  "language_info": {
   "codemirror_mode": {
    "name": "ipython",
    "version": 3
   },
   "file_extension": ".py",
   "mimetype": "text/x-python",
   "name": "python",
   "nbconvert_exporter": "python",
   "pygments_lexer": "ipython3",
   "version": "3.12.3"
  }
 },
 "nbformat": 4,
 "nbformat_minor": 5
}
